{
 "cells": [
  {
   "cell_type": "markdown",
   "metadata": {},
   "source": [
    "# Handover Tracjectory Player "
   ]
  },
  {
   "cell_type": "code",
   "execution_count": 1,
   "metadata": {},
   "outputs": [],
   "source": [
    "import sys\n",
    "import os\n",
    "import time\n",
    "import matplotlib.pyplot as plt\n",
    "import numpy as np\n",
    "import pickle\n",
    "import random\n",
    "sys.path.append('../package/helper/')\n",
    "sys.path.append('../package/mujoco_usage/')\n",
    "\n",
    "# Mujoco Related\n",
    "from mujoco_parser import MuJoCoParserClass\n",
    "from transformation import *\n",
    "from mujoco_parser import solve_ik"
   ]
  },
  {
   "cell_type": "markdown",
   "metadata": {},
   "source": [
    "## Initiate Mujoco"
   ]
  },
  {
   "cell_type": "code",
   "execution_count": 2,
   "metadata": {},
   "outputs": [
    {
     "name": "stdout",
     "output_type": "stream",
     "text": [
      "Ready.\n"
     ]
    }
   ],
   "source": [
    "xml_path = '../data/assets/ur5e/handover_scene.xml'\n",
    "env = MuJoCoParserClass(name='handover',rel_xml_path=xml_path,verbose=False)\n",
    "\n",
    "joint_names_ur5e = ['shoulder_pan_joint','shoulder_lift_joint','elbow_joint','wrist_1_joint','wrist_2_joint','wrist_3_joint']\n",
    "idxs_fwd_ur5e   = env.get_idxs_fwd(joint_names=joint_names_ur5e)\n",
    "\n",
    "# Initail pose\n",
    "init_joint_value = [-1.49194225, -1.42738526,  2.13327598, -0.70220845, -0.0491743,  -0.00317383]\n",
    "env.reset()\n",
    "env.forward(q=init_joint_value, joint_idxs=idxs_fwd_ur5e)\n",
    "print (\"Ready.\")"
   ]
  },
  {
   "cell_type": "markdown",
   "metadata": {},
   "source": [
    "## Load Human Handover Data"
   ]
  },
  {
   "cell_type": "code",
   "execution_count": 3,
   "metadata": {},
   "outputs": [
    {
     "name": "stdout",
     "output_type": "stream",
     "text": [
      "['motion_normal_0.pkl', 'motion_variation_0.pkl', 'motion_normal_1.pkl', 'motion_variation_1.pkl', 'motion_normal_2.pkl', 'motion_variation_2.pkl', 'motion_normal_3.pkl', 'motion_variation_3.pkl', 'motion_variation_4.pkl', 'motion_normal_4.pkl', 'motion_variation_5.pkl', 'motion_normal_5.pkl', 'motion_variation_6.pkl', 'motion_normal_6.pkl', 'motion_variation_7.pkl', 'motion_normal_7.pkl', 'motion_normal_8.pkl', 'motion_variation_8.pkl', 'motion_normal_9.pkl', 'motion_variation_9.pkl', 'motion_normal_10.pkl', 'motion_variation_10.pkl', 'motion_normal_11.pkl', 'motion_variation_11.pkl', 'motion_normal_12.pkl', 'motion_variation_12.pkl', 'motion_normal_13.pkl', 'motion_variation_13.pkl', 'motion_normal_14.pkl', 'motion_variation_14.pkl', 'motion_normal_15.pkl', 'motion_variation_15.pkl', 'motion_normal_16.pkl', 'motion_variation_16.pkl', 'motion_normal_17.pkl', 'motion_variation_17.pkl', 'motion_variation_18.pkl', 'motion_normal_18.pkl', 'motion_variation_19.pkl', 'motion_normal_19.pkl', 'motion_variation_20.pkl', 'motion_normal_20.pkl', 'motion_variation_21.pkl', 'motion_normal_21.pkl', 'motion_variation_22.pkl', 'motion_normal_22.pkl', 'motion_variation_23.pkl', 'motion_normal_23.pkl', 'motion_variation_24.pkl', 'motion_normal_24.pkl', 'motion_variation_25.pkl', 'motion_normal_25.pkl', 'motion_variation_26.pkl', 'motion_normal_26.pkl', 'motion_variation_27.pkl', 'motion_normal_27.pkl', 'motion_normal_28.pkl', 'motion_variation_28.pkl', 'motion_normal_29.pkl', 'motion_variation_29.pkl', 'motion_variation_30.pkl', 'motion_normal_30.pkl', 'motion_variation_31.pkl', 'motion_normal_31.pkl', 'motion_variation_32.pkl', 'motion_normal_32.pkl', 'motion_variation_33.pkl', 'motion_normal_33.pkl', 'motion_variation_34.pkl', 'motion_normal_34.pkl', 'motion_variation_35.pkl', 'motion_normal_35.pkl', 'motion_variation_36.pkl', 'motion_normal_36.pkl', 'motion_variation_37.pkl', 'motion_normal_37.pkl', 'motion_normal_38.pkl', 'motion_variation_38.pkl', 'motion_normal_39.pkl', 'motion_variation_39.pkl', 'motion_variation_40.pkl', 'motion_normal_40.pkl', 'motion_variation_41.pkl', 'motion_normal_41.pkl', 'motion_variation_42.pkl', 'motion_normal_42.pkl', 'motion_variation_43.pkl', 'motion_normal_43.pkl', 'motion_variation_44.pkl', 'motion_normal_44.pkl', 'motion_variation_45.pkl', 'motion_normal_45.pkl', 'motion_variation_46.pkl', 'motion_normal_46.pkl', 'motion_variation_47.pkl', 'motion_normal_47.pkl', 'motion_normal_48.pkl', 'motion_variation_48.pkl', 'motion_normal_49.pkl', 'motion_variation_49.pkl', 'motion_variation_50.pkl', 'motion_normal_50.pkl', 'motion_variation_51.pkl', 'motion_normal_51.pkl', 'motion_variation_52.pkl', 'motion_normal_52.pkl', 'motion_variation_53.pkl', 'motion_normal_53.pkl', 'motion_variation_54.pkl', 'motion_normal_54.pkl', 'motion_variation_55.pkl', 'motion_normal_55.pkl', 'motion_variation_56.pkl', 'motion_normal_56.pkl', 'motion_variation_57.pkl', 'motion_normal_57.pkl', 'motion_normal_58.pkl', 'motion_variation_58.pkl', 'motion_normal_59.pkl', 'motion_variation_59.pkl', 'motion_normal_60.pkl', 'motion_variation_60.pkl', 'motion_normal_61.pkl', 'motion_variation_61.pkl', 'motion_normal_62.pkl', 'motion_variation_62.pkl', 'motion_normal_63.pkl', 'motion_variation_63.pkl', 'motion_normal_64.pkl', 'motion_variation_64.pkl', 'motion_normal_65.pkl', 'motion_variation_65.pkl', 'motion_normal_66.pkl', 'motion_variation_66.pkl', 'motion_normal_67.pkl', 'motion_variation_67.pkl', 'motion_variation_68.pkl', 'motion_normal_68.pkl', 'motion_variation_69.pkl', 'motion_normal_69.pkl', 'motion_normal_70.pkl', 'motion_variation_70.pkl', 'motion_normal_71.pkl', 'motion_variation_71.pkl', 'motion_normal_72.pkl', 'motion_variation_72.pkl', 'motion_normal_73.pkl', 'motion_variation_73.pkl', 'motion_normal_74.pkl', 'motion_variation_74.pkl', 'motion_normal_75.pkl', 'motion_variation_75.pkl', 'motion_normal_76.pkl', 'motion_variation_76.pkl', 'motion_normal_77.pkl', 'motion_variation_77.pkl', 'motion_variation_78.pkl', 'motion_normal_78.pkl', 'motion_variation_79.pkl', 'motion_normal_79.pkl', 'motion_variation_80.pkl', 'motion_normal_80.pkl', 'motion_variation_81.pkl', 'motion_normal_81.pkl', 'motion_variation_82.pkl', 'motion_normal_82.pkl', 'motion_variation_83.pkl', 'motion_normal_83.pkl', 'motion_variation_84.pkl', 'motion_normal_84.pkl', 'motion_variation_85.pkl', 'motion_normal_85.pkl', 'motion_variation_86.pkl', 'motion_normal_86.pkl', 'motion_variation_87.pkl', 'motion_normal_87.pkl', 'motion_normal_88.pkl', 'motion_variation_88.pkl', 'motion_normal_89.pkl', 'motion_variation_89.pkl', 'motion_variation_90.pkl', 'motion_normal_90.pkl', 'motion_variation_91.pkl', 'motion_normal_91.pkl', 'motion_variation_92.pkl', 'motion_normal_92.pkl', 'motion_variation_93.pkl', 'motion_normal_93.pkl', 'motion_variation_94.pkl', 'motion_normal_94.pkl', 'motion_variation_95.pkl', 'motion_normal_95.pkl', 'motion_variation_96.pkl', 'motion_normal_96.pkl', 'motion_variation_97.pkl', 'motion_normal_97.pkl', 'motion_normal_98.pkl', 'motion_variation_98.pkl', 'motion_normal_99.pkl', 'motion_variation_99.pkl', 'motion_normal_100.pkl', 'motion_normal_101.pkl', 'motion_normal_102.pkl', 'motion_normal_103.pkl', 'motion_normal_104.pkl', 'motion_normal_105.pkl', 'motion_normal_106.pkl', 'motion_normal_107.pkl', 'motion_normal_108.pkl', 'motion_normal_109.pkl', 'motion_normal_110.pkl', 'motion_normal_111.pkl', 'motion_normal_112.pkl', 'motion_normal_113.pkl', 'motion_normal_114.pkl', 'motion_normal_115.pkl', 'motion_normal_116.pkl', 'motion_normal_117.pkl', 'motion_normal_118.pkl', 'motion_normal_119.pkl', 'motion_normal_120.pkl', 'motion_normal_121.pkl', 'motion_normal_122.pkl', 'motion_normal_123.pkl', 'motion_normal_124.pkl', 'motion_normal_125.pkl', 'motion_normal_126.pkl', 'motion_normal_127.pkl', 'motion_normal_128.pkl', 'motion_normal_129.pkl', 'motion_normal_130.pkl', 'motion_normal_131.pkl', 'motion_normal_132.pkl', 'motion_normal_133.pkl', 'motion_normal_134.pkl', 'motion_normal_135.pkl', 'motion_normal_136.pkl', 'motion_normal_137.pkl', 'motion_normal_138.pkl', 'motion_normal_139.pkl', 'motion_normal_140.pkl', 'motion_normal_141.pkl', 'motion_normal_142.pkl', 'motion_normal_143.pkl', 'motion_normal_144.pkl', 'motion_normal_145.pkl', 'motion_normal_146.pkl', 'motion_normal_147.pkl', 'motion_normal_148.pkl', 'motion_normal_149.pkl', 'motion_normal_150.pkl', 'motion_normal_151.pkl', 'motion_normal_152.pkl', 'motion_normal_153.pkl', 'motion_normal_154.pkl', 'motion_normal_155.pkl', 'motion_normal_156.pkl', 'motion_normal_157.pkl', 'motion_normal_158.pkl', 'motion_normal_159.pkl', 'motion_normal_160.pkl', 'motion_normal_161.pkl', 'motion_normal_162.pkl', 'motion_normal_163.pkl', 'motion_normal_164.pkl', 'motion_normal_165.pkl', 'motion_normal_166.pkl', 'motion_normal_167.pkl', 'motion_normal_168.pkl', 'motion_normal_169.pkl', 'motion_normal_170.pkl', 'motion_normal_171.pkl', 'motion_normal_172.pkl', 'motion_normal_173.pkl', 'motion_normal_174.pkl', 'motion_normal_175.pkl', 'motion_normal_176.pkl', 'motion_normal_177.pkl', 'motion_normal_178.pkl', 'motion_normal_179.pkl', 'motion_normal_180.pkl', 'motion_normal_181.pkl', 'motion_normal_182.pkl', 'motion_normal_183.pkl', 'motion_normal_184.pkl', 'motion_normal_185.pkl', 'motion_normal_186.pkl', 'motion_normal_187.pkl', 'motion_normal_188.pkl', 'motion_normal_189.pkl', 'motion_normal_190.pkl', 'motion_normal_191.pkl', 'motion_normal_192.pkl', 'motion_normal_193.pkl', 'motion_normal_194.pkl', 'motion_normal_195.pkl', 'motion_normal_196.pkl', 'motion_normal_197.pkl', 'motion_normal_198.pkl', 'motion_normal_199.pkl', 'motion_normal_200.pkl', 'motion_normal_201.pkl', 'motion_normal_202.pkl', 'motion_normal_203.pkl', 'motion_normal_204.pkl', 'motion_normal_205.pkl', 'motion_normal_206.pkl', 'motion_normal_207.pkl', 'motion_normal_208.pkl', 'motion_normal_209.pkl', 'motion_normal_210.pkl', 'motion_normal_211.pkl', 'motion_normal_212.pkl', 'motion_normal_213.pkl', 'motion_normal_214.pkl', 'motion_normal_215.pkl', 'motion_normal_216.pkl', 'motion_normal_217.pkl', 'motion_normal_218.pkl', 'motion_normal_219.pkl', 'motion_normal_220.pkl', 'motion_normal_221.pkl', 'motion_normal_222.pkl', 'motion_normal_223.pkl', 'motion_normal_224.pkl', 'motion_normal_225.pkl', 'motion_normal_226.pkl', 'motion_normal_227.pkl', 'motion_normal_228.pkl', 'motion_normal_229.pkl', 'motion_normal_230.pkl', 'motion_normal_231.pkl', 'motion_normal_232.pkl', 'motion_normal_233.pkl', 'motion_normal_234.pkl', 'motion_normal_235.pkl', 'motion_normal_236.pkl', 'motion_normal_237.pkl', 'motion_normal_238.pkl', 'motion_normal_239.pkl', 'motion_normal_240.pkl', 'motion_normal_241.pkl', 'motion_normal_242.pkl', 'motion_normal_243.pkl', 'motion_normal_244.pkl', 'motion_normal_245.pkl', 'motion_normal_246.pkl', 'motion_normal_247.pkl', 'motion_normal_248.pkl', 'motion_normal_249.pkl', 'motion_normal_250.pkl', 'motion_normal_251.pkl', 'motion_normal_252.pkl', 'motion_normal_253.pkl', 'motion_normal_254.pkl', 'motion_normal_255.pkl', 'motion_normal_256.pkl', 'motion_normal_257.pkl', 'motion_normal_258.pkl', 'motion_normal_259.pkl', 'motion_normal_260.pkl', 'motion_normal_261.pkl', 'motion_normal_262.pkl', 'motion_normal_263.pkl', 'motion_normal_264.pkl', 'motion_normal_265.pkl', 'motion_normal_266.pkl', 'motion_normal_267.pkl', 'motion_normal_268.pkl', 'motion_normal_269.pkl', 'motion_normal_270.pkl', 'motion_normal_271.pkl', 'motion_normal_272.pkl', 'motion_normal_273.pkl', 'motion_normal_274.pkl', 'motion_normal_275.pkl', 'motion_normal_276.pkl', 'motion_normal_277.pkl', 'motion_normal_278.pkl', 'motion_normal_279.pkl', 'motion_normal_280.pkl', 'motion_normal_281.pkl', 'motion_normal_282.pkl', 'motion_normal_283.pkl', 'motion_normal_284.pkl', 'motion_normal_285.pkl', 'motion_normal_286.pkl', 'motion_normal_287.pkl', 'motion_normal_288.pkl', 'motion_normal_289.pkl', 'motion_normal_290.pkl', 'motion_normal_291.pkl', 'motion_normal_292.pkl', 'motion_normal_293.pkl', 'motion_normal_294.pkl', 'motion_normal_295.pkl', 'motion_normal_296.pkl', 'motion_normal_297.pkl', 'motion_normal_298.pkl', 'motion_normal_299.pkl', 'motion_normal_300.pkl', 'motion_normal_301.pkl', 'motion_normal_302.pkl', 'motion_normal_303.pkl', 'motion_normal_304.pkl', 'motion_normal_305.pkl', 'motion_normal_306.pkl', 'motion_normal_307.pkl', 'motion_normal_308.pkl', 'motion_normal_309.pkl', 'motion_normal_310.pkl', 'motion_normal_311.pkl', 'motion_normal_312.pkl', 'motion_normal_313.pkl', 'motion_normal_314.pkl', 'motion_normal_315.pkl', 'motion_normal_316.pkl', 'motion_normal_317.pkl', 'motion_normal_318.pkl', 'motion_normal_319.pkl', 'motion_normal_320.pkl', 'motion_normal_321.pkl', 'motion_normal_322.pkl', 'motion_normal_323.pkl', 'motion_normal_324.pkl', 'motion_normal_325.pkl', 'motion_normal_326.pkl', 'motion_normal_327.pkl', 'motion_normal_328.pkl', 'motion_normal_329.pkl', 'motion_normal_330.pkl', 'motion_normal_331.pkl', 'motion_normal_332.pkl', 'motion_normal_333.pkl', 'motion_normal_334.pkl', 'motion_normal_335.pkl', 'motion_normal_336.pkl', 'motion_normal_337.pkl', 'motion_normal_338.pkl', 'motion_normal_339.pkl', 'motion_normal_340.pkl', 'motion_normal_341.pkl', 'motion_normal_342.pkl', 'motion_normal_343.pkl', 'motion_normal_344.pkl', 'motion_normal_345.pkl', 'motion_normal_346.pkl', 'motion_normal_347.pkl', 'motion_normal_348.pkl', 'motion_normal_349.pkl', 'motion_normal_350.pkl', 'motion_normal_351.pkl', 'motion_normal_352.pkl', 'motion_normal_353.pkl', 'motion_normal_354.pkl', 'motion_normal_355.pkl', 'motion_normal_356.pkl', 'motion_normal_357.pkl', 'motion_normal_358.pkl', 'motion_normal_359.pkl', 'motion_normal_360.pkl', 'motion_normal_361.pkl', 'motion_normal_362.pkl', 'motion_normal_363.pkl', 'motion_normal_364.pkl', 'motion_normal_365.pkl', 'motion_normal_366.pkl', 'motion_normal_367.pkl', 'motion_normal_368.pkl', 'motion_normal_369.pkl', 'motion_normal_370.pkl', 'motion_normal_371.pkl', 'motion_normal_372.pkl', 'motion_normal_373.pkl', 'motion_normal_374.pkl', 'motion_normal_375.pkl', 'motion_normal_376.pkl', 'motion_normal_377.pkl', 'motion_normal_378.pkl', 'motion_normal_379.pkl', 'motion_normal_380.pkl', 'motion_normal_381.pkl', 'motion_normal_382.pkl', 'motion_normal_383.pkl', 'motion_normal_384.pkl', 'motion_normal_385.pkl', 'motion_normal_386.pkl', 'motion_normal_387.pkl', 'motion_normal_388.pkl', 'motion_normal_389.pkl', 'motion_normal_390.pkl', 'motion_normal_391.pkl', 'motion_normal_392.pkl', 'motion_normal_393.pkl', 'motion_normal_394.pkl', 'motion_normal_395.pkl', 'motion_normal_396.pkl', 'motion_normal_397.pkl', 'motion_normal_398.pkl', 'motion_normal_399.pkl', 'motion_normal_400.pkl', 'motion_normal_401.pkl', 'motion_normal_402.pkl', 'motion_normal_403.pkl', 'motion_normal_404.pkl', 'motion_normal_405.pkl', 'motion_normal_406.pkl', 'motion_normal_407.pkl', 'motion_normal_408.pkl', 'motion_normal_409.pkl', 'motion_normal_410.pkl', 'motion_normal_411.pkl', 'motion_normal_412.pkl', 'motion_normal_413.pkl', 'motion_normal_414.pkl', 'motion_normal_415.pkl', 'motion_normal_416.pkl', 'motion_normal_417.pkl', 'motion_normal_418.pkl', 'motion_normal_419.pkl', 'motion_normal_420.pkl', 'motion_normal_421.pkl', 'motion_normal_422.pkl', 'motion_normal_423.pkl', 'motion_normal_424.pkl', 'motion_normal_425.pkl', 'motion_normal_426.pkl', 'motion_normal_427.pkl', 'motion_normal_428.pkl', 'motion_normal_429.pkl', 'motion_normal_430.pkl', 'motion_normal_431.pkl', 'motion_normal_432.pkl', 'motion_normal_433.pkl', 'motion_normal_434.pkl', 'motion_normal_435.pkl', 'motion_normal_436.pkl', 'motion_normal_437.pkl', 'motion_normal_438.pkl', 'motion_normal_439.pkl', 'motion_normal_440.pkl', 'motion_normal_441.pkl', 'motion_normal_442.pkl', 'motion_normal_443.pkl', 'motion_normal_444.pkl', 'motion_normal_445.pkl', 'motion_normal_446.pkl', 'motion_normal_447.pkl', 'motion_normal_448.pkl', 'motion_normal_449.pkl', 'motion_normal_450.pkl', 'motion_normal_451.pkl', 'motion_normal_452.pkl', 'motion_normal_453.pkl', 'motion_normal_454.pkl', 'motion_normal_455.pkl', 'motion_normal_456.pkl', 'motion_normal_457.pkl', 'motion_normal_458.pkl', 'motion_normal_459.pkl', 'motion_normal_460.pkl', 'motion_normal_461.pkl', 'motion_normal_462.pkl', 'motion_normal_463.pkl', 'motion_normal_464.pkl', 'motion_normal_465.pkl', 'motion_normal_466.pkl', 'motion_normal_467.pkl', 'motion_normal_468.pkl', 'motion_normal_469.pkl', 'motion_normal_470.pkl', 'motion_normal_471.pkl', 'motion_normal_472.pkl', 'motion_normal_473.pkl', 'motion_normal_474.pkl', 'motion_normal_475.pkl', 'motion_normal_476.pkl', 'motion_normal_477.pkl', 'motion_normal_478.pkl', 'motion_normal_479.pkl', 'motion_normal_480.pkl', 'motion_normal_481.pkl', 'motion_normal_482.pkl', 'motion_normal_483.pkl', 'motion_normal_484.pkl', 'motion_normal_485.pkl', 'motion_normal_486.pkl', 'motion_normal_487.pkl', 'motion_normal_488.pkl', 'motion_normal_489.pkl', 'motion_normal_490.pkl', 'motion_normal_491.pkl', 'motion_normal_492.pkl', 'motion_normal_493.pkl', 'motion_normal_494.pkl', 'motion_normal_495.pkl', 'motion_normal_496.pkl', 'motion_normal_497.pkl', 'motion_normal_498.pkl', 'motion_normal_499.pkl', 'motion_normal_500.pkl', 'motion_normal_501.pkl', 'motion_normal_502.pkl', 'motion_normal_503.pkl', 'motion_normal_504.pkl', 'motion_normal_505.pkl', 'motion_normal_506.pkl', 'motion_normal_507.pkl', 'motion_normal_508.pkl', 'motion_normal_509.pkl', 'motion_normal_510.pkl', 'motion_normal_511.pkl', 'motion_normal_512.pkl', 'motion_normal_513.pkl', 'motion_normal_514.pkl', 'motion_normal_515.pkl', 'motion_normal_516.pkl', 'motion_normal_517.pkl', 'motion_normal_518.pkl', 'motion_normal_519.pkl', 'motion_normal_520.pkl', 'motion_normal_521.pkl', 'motion_normal_522.pkl', 'motion_normal_523.pkl', 'motion_normal_524.pkl', 'motion_normal_525.pkl', 'motion_normal_526.pkl', 'motion_normal_527.pkl', 'motion_normal_528.pkl', 'motion_normal_529.pkl', 'motion_normal_530.pkl', 'motion_normal_531.pkl', 'motion_normal_532.pkl', 'motion_normal_533.pkl', 'motion_normal_534.pkl', 'motion_normal_535.pkl', 'motion_normal_536.pkl', 'motion_normal_537.pkl', 'motion_normal_538.pkl', 'motion_normal_539.pkl', 'motion_normal_540.pkl', 'motion_normal_541.pkl', 'motion_normal_542.pkl', 'motion_normal_543.pkl', 'motion_normal_544.pkl', 'motion_normal_545.pkl', 'motion_normal_546.pkl', 'motion_normal_547.pkl', 'motion_normal_548.pkl', 'motion_normal_549.pkl', 'motion_normal_550.pkl', 'motion_normal_551.pkl', 'motion_normal_552.pkl', 'motion_normal_553.pkl', 'motion_normal_554.pkl', 'motion_normal_555.pkl', 'motion_normal_556.pkl', 'motion_normal_557.pkl', 'motion_normal_558.pkl', 'motion_normal_559.pkl', 'motion_normal_560.pkl', 'motion_normal_561.pkl', 'motion_normal_562.pkl', 'motion_normal_563.pkl', 'motion_normal_564.pkl', 'motion_normal_565.pkl', 'motion_normal_566.pkl', 'motion_normal_567.pkl', 'motion_normal_568.pkl', 'motion_normal_569.pkl', 'motion_normal_570.pkl', 'motion_normal_571.pkl', 'motion_normal_572.pkl', 'motion_normal_573.pkl', 'motion_normal_574.pkl', 'motion_normal_575.pkl', 'motion_normal_576.pkl', 'motion_normal_577.pkl', 'motion_normal_578.pkl', 'motion_normal_579.pkl', 'motion_normal_580.pkl', 'motion_normal_581.pkl', 'motion_normal_582.pkl', 'motion_normal_583.pkl', 'motion_normal_584.pkl', 'motion_normal_585.pkl', 'motion_normal_586.pkl', 'motion_normal_587.pkl', 'motion_normal_588.pkl', 'motion_normal_589.pkl', 'motion_normal_590.pkl', 'motion_normal_591.pkl', 'motion_normal_592.pkl', 'motion_normal_593.pkl', 'motion_normal_594.pkl', 'motion_normal_595.pkl', 'motion_normal_596.pkl', 'motion_normal_597.pkl', 'motion_normal_598.pkl', 'motion_normal_599.pkl', 'motion_normal_600.pkl', 'motion_normal_601.pkl', 'motion_normal_602.pkl', 'motion_normal_603.pkl', 'motion_normal_604.pkl', 'motion_normal_605.pkl', 'motion_normal_606.pkl', 'motion_normal_607.pkl', 'motion_normal_608.pkl', 'motion_normal_609.pkl', 'motion_normal_610.pkl', 'motion_normal_611.pkl', 'motion_normal_612.pkl', 'motion_normal_613.pkl', 'motion_normal_614.pkl', 'motion_normal_615.pkl', 'motion_normal_616.pkl', 'motion_normal_617.pkl', 'motion_normal_618.pkl', 'motion_normal_619.pkl', 'motion_normal_620.pkl', 'motion_normal_621.pkl', 'motion_normal_622.pkl', 'motion_normal_623.pkl', 'motion_normal_624.pkl', 'motion_normal_625.pkl', 'motion_normal_626.pkl', 'motion_normal_627.pkl', 'motion_normal_628.pkl', 'motion_normal_629.pkl', 'motion_normal_630.pkl', 'motion_normal_631.pkl', 'motion_normal_632.pkl', 'motion_normal_633.pkl', 'motion_normal_634.pkl', 'motion_normal_635.pkl', 'motion_normal_636.pkl', 'motion_normal_637.pkl', 'motion_normal_638.pkl', 'motion_normal_639.pkl', 'motion_normal_640.pkl', 'motion_normal_641.pkl', 'motion_normal_642.pkl', 'motion_normal_643.pkl', 'motion_normal_644.pkl', 'motion_normal_645.pkl', 'motion_normal_646.pkl', 'motion_normal_647.pkl', 'motion_normal_648.pkl', 'motion_normal_649.pkl', 'motion_normal_650.pkl', 'motion_normal_651.pkl', 'motion_normal_652.pkl', 'motion_normal_653.pkl', 'motion_normal_654.pkl', 'motion_normal_655.pkl', 'motion_normal_656.pkl', 'motion_normal_657.pkl', 'motion_normal_658.pkl', 'motion_normal_659.pkl', 'motion_normal_660.pkl', 'motion_normal_661.pkl', 'motion_normal_662.pkl', 'motion_normal_663.pkl', 'motion_normal_664.pkl', 'motion_normal_665.pkl', 'motion_normal_666.pkl', 'motion_normal_667.pkl', 'motion_normal_668.pkl', 'motion_normal_669.pkl', 'motion_normal_670.pkl', 'motion_normal_671.pkl', 'motion_normal_672.pkl', 'motion_normal_673.pkl', 'motion_normal_674.pkl', 'motion_normal_675.pkl', 'motion_normal_676.pkl', 'motion_normal_677.pkl', 'motion_normal_678.pkl', 'motion_normal_679.pkl', 'motion_normal_680.pkl', 'motion_normal_681.pkl', 'motion_normal_682.pkl', 'motion_normal_683.pkl', 'motion_normal_684.pkl', 'motion_normal_685.pkl', 'motion_normal_686.pkl', 'motion_normal_687.pkl', 'motion_normal_688.pkl', 'motion_normal_689.pkl', 'motion_normal_690.pkl', 'motion_normal_691.pkl', 'motion_normal_692.pkl', 'motion_normal_693.pkl', 'motion_normal_694.pkl', 'motion_normal_695.pkl', 'motion_normal_696.pkl', 'motion_normal_697.pkl', 'motion_normal_698.pkl', 'motion_normal_699.pkl', 'motion_normal_700.pkl', 'motion_normal_701.pkl', 'motion_normal_702.pkl', 'motion_normal_703.pkl', 'motion_normal_704.pkl', 'motion_normal_705.pkl', 'motion_normal_706.pkl', 'motion_normal_707.pkl', 'motion_normal_708.pkl', 'motion_normal_709.pkl', 'motion_normal_710.pkl', 'motion_normal_711.pkl', 'motion_normal_712.pkl', 'motion_normal_713.pkl', 'motion_normal_714.pkl', 'motion_normal_715.pkl', 'motion_normal_716.pkl', 'motion_normal_717.pkl', 'motion_normal_718.pkl', 'motion_normal_719.pkl', 'motion_normal_720.pkl', 'motion_normal_721.pkl', 'motion_normal_722.pkl', 'motion_normal_723.pkl', 'motion_normal_724.pkl', 'motion_normal_725.pkl', 'motion_normal_726.pkl', 'motion_normal_727.pkl', 'motion_normal_728.pkl', 'motion_normal_729.pkl', 'motion_normal_730.pkl', 'motion_normal_731.pkl', 'motion_normal_732.pkl', 'motion_normal_733.pkl', 'motion_normal_734.pkl', 'motion_normal_735.pkl', 'motion_normal_736.pkl', 'motion_normal_737.pkl', 'motion_normal_738.pkl', 'motion_normal_739.pkl', 'motion_normal_740.pkl', 'motion_normal_741.pkl', 'motion_normal_742.pkl', 'motion_normal_743.pkl', 'motion_normal_744.pkl', 'motion_normal_745.pkl', 'motion_normal_746.pkl', 'motion_normal_747.pkl', 'motion_normal_748.pkl', 'motion_normal_749.pkl', 'motion_normal_750.pkl', 'motion_normal_751.pkl', 'motion_normal_752.pkl', 'motion_normal_753.pkl', 'motion_normal_754.pkl', 'motion_normal_755.pkl', 'motion_normal_756.pkl', 'motion_normal_757.pkl', 'motion_normal_758.pkl', 'motion_normal_759.pkl', 'motion_normal_760.pkl', 'motion_normal_761.pkl', 'motion_normal_762.pkl', 'motion_normal_763.pkl', 'motion_normal_764.pkl', 'motion_normal_765.pkl', 'motion_normal_766.pkl', 'motion_normal_767.pkl', 'motion_normal_768.pkl', 'motion_normal_769.pkl', 'motion_normal_770.pkl', 'motion_normal_771.pkl', 'motion_normal_772.pkl', 'motion_normal_773.pkl', 'motion_normal_774.pkl', 'motion_normal_775.pkl', 'motion_normal_776.pkl', 'motion_normal_777.pkl', 'motion_normal_778.pkl', 'motion_normal_779.pkl', 'motion_normal_780.pkl', 'motion_normal_781.pkl', 'motion_normal_782.pkl', 'motion_normal_783.pkl', 'motion_normal_784.pkl', 'motion_normal_785.pkl', 'motion_normal_786.pkl', 'motion_normal_787.pkl', 'motion_normal_788.pkl', 'motion_normal_789.pkl', 'motion_normal_790.pkl', 'motion_normal_791.pkl', 'motion_normal_792.pkl', 'motion_normal_793.pkl', 'motion_normal_794.pkl', 'motion_normal_795.pkl', 'motion_normal_796.pkl', 'motion_normal_797.pkl', 'motion_normal_798.pkl', 'motion_normal_799.pkl', 'motion_normal_800.pkl', 'motion_normal_801.pkl', 'motion_normal_802.pkl', 'motion_normal_803.pkl', 'motion_normal_804.pkl', 'motion_normal_805.pkl', 'motion_normal_806.pkl', 'motion_normal_807.pkl', 'motion_normal_808.pkl', 'motion_normal_809.pkl', 'motion_normal_810.pkl', 'motion_normal_811.pkl', 'motion_normal_812.pkl', 'motion_normal_813.pkl', 'motion_normal_814.pkl', 'motion_normal_815.pkl', 'motion_normal_816.pkl', 'motion_normal_817.pkl', 'motion_normal_818.pkl', 'motion_normal_819.pkl', 'motion_normal_820.pkl', 'motion_normal_821.pkl', 'motion_normal_822.pkl', 'motion_normal_823.pkl', 'motion_normal_824.pkl', 'motion_normal_825.pkl', 'motion_normal_826.pkl', 'motion_normal_827.pkl', 'motion_normal_828.pkl', 'motion_normal_829.pkl', 'motion_normal_830.pkl', 'motion_normal_831.pkl', 'motion_normal_832.pkl', 'motion_normal_833.pkl', 'motion_normal_834.pkl', 'motion_normal_835.pkl', 'motion_normal_836.pkl', 'motion_normal_837.pkl', 'motion_normal_838.pkl', 'motion_normal_839.pkl', 'motion_normal_840.pkl', 'motion_normal_841.pkl', 'motion_normal_842.pkl', 'motion_normal_843.pkl', 'motion_normal_844.pkl', 'motion_normal_845.pkl', 'motion_normal_846.pkl', 'motion_normal_847.pkl', 'motion_normal_848.pkl', 'motion_normal_849.pkl', 'motion_normal_850.pkl', 'motion_normal_851.pkl', 'motion_normal_852.pkl', 'motion_normal_853.pkl', 'motion_normal_854.pkl', 'motion_normal_855.pkl', 'motion_normal_856.pkl', 'motion_normal_857.pkl', 'motion_normal_858.pkl', 'motion_normal_859.pkl', 'motion_normal_860.pkl', 'motion_normal_861.pkl', 'motion_normal_862.pkl', 'motion_normal_863.pkl', 'motion_normal_864.pkl', 'motion_normal_865.pkl', 'motion_normal_866.pkl', 'motion_normal_867.pkl', 'motion_normal_868.pkl', 'motion_normal_869.pkl', 'motion_normal_870.pkl', 'motion_normal_871.pkl', 'motion_normal_872.pkl', 'motion_normal_873.pkl', 'motion_normal_874.pkl', 'motion_normal_875.pkl', 'motion_normal_876.pkl', 'motion_normal_877.pkl', 'motion_normal_878.pkl', 'motion_normal_879.pkl', 'motion_normal_880.pkl', 'motion_normal_881.pkl', 'motion_normal_882.pkl', 'motion_normal_883.pkl', 'motion_normal_884.pkl', 'motion_normal_885.pkl', 'motion_normal_886.pkl', 'motion_normal_887.pkl', 'motion_normal_888.pkl', 'motion_normal_889.pkl', 'motion_normal_890.pkl', 'motion_normal_891.pkl', 'motion_normal_892.pkl', 'motion_normal_893.pkl', 'motion_normal_894.pkl', 'motion_normal_895.pkl', 'motion_normal_896.pkl', 'motion_normal_897.pkl', 'motion_normal_898.pkl', 'motion_normal_899.pkl']\n"
     ]
    },
    {
     "data": {
      "text/plain": [
       "1000"
      ]
     },
     "execution_count": 3,
     "metadata": {},
     "output_type": "execute_result"
    }
   ],
   "source": [
    "# moderate\n",
    "pose_data_dir = \"../data/whole_motions/\"\n",
    "\n",
    "pose_data_names = os.listdir(pose_data_dir)\n",
    "# sort names by number\n",
    "pose_data_names = sorted(pose_data_names, key=lambda x: int(x.split(\"_\")[2].split(\".\")[0]))\n",
    "print(pose_data_names) # ID motions: motion_normal_xxx.pkl / OOD motions: motion_variation_xxx.pkl\n",
    "\n",
    "# get paths\n",
    "pose_data_paths = []\n",
    "for pose_data_name in pose_data_names:\n",
    "    pose_data_paths.append([pose_data_dir + \"/\" + pose_data_name])\n",
    "pose_data_paths = sum(pose_data_paths, [])# sqeeze\n",
    "\n",
    "# open pickle files and load data\n",
    "motion_data_list = []\n",
    "for pose_data_path in pose_data_paths:\n",
    "    with open(pose_data_path, 'rb') as f:\n",
    "        pose_data = pickle.load(f)\n",
    "    motion_data_list.append(pose_data)\n",
    "len(motion_data_list)\n"
   ]
  },
  {
   "cell_type": "markdown",
   "metadata": {},
   "source": [
    "## ZED Bodytracking (34) Kinematic Sturcture"
   ]
  },
  {
   "cell_type": "code",
   "execution_count": 4,
   "metadata": {},
   "outputs": [],
   "source": [
    "leg_joint_list = [18, 19, 20, 21, 32, # right leg\n",
    "           22, 23, 24, 25, 33 # left leg\n",
    "]\n",
    "\n",
    "ks_body_receiver = [[0,1], [1,2], [2,3], [3,26], [26,27], [27,28], [28,29], [27,30], [27,31], # middle\n",
    "           [2,4], [4,5], [5,6], [6,7], [7,8], [8,9], [7,10], # right arm\n",
    "           [2,11], [11,12], [12,13], [13,14], [14,15], [15,16], [14,17], # left arm,\n",
    "           [0,18], [18,19], [19,20], [20,21], [20,32], # right leg\n",
    "           [0,22], [22,23], [23,24], [24,25], [24,33], # left leg\n",
    "]\n",
    "joint_idx_list_receiver = range(34)\n",
    "\n",
    "ks_body_giver = [[0,1], [1,2], [2,3], [3,26], [26,27], [27,28], [28,29], [27,30], [27,31], # middle\n",
    "           [2,4], [4,5], [5,6], [6,7], [7,8], [8,9], [7,10], # right arm\n",
    "           [2,11], [11,12], [12,13], [13,14], [14,15], [15,16], [14,17], # left arm,\n",
    "]\n",
    "joint_idx_list_giver = [i for i in range(34) if i not in leg_joint_list]\n",
    "\n",
    "# allocate rgba data for each idxs\n",
    "rgba = {}\n",
    "rgba[\"receiver\"] = (1, 0, 0, 1)\n",
    "rgba[\"giver\"] = (0, 0, 1, 1)\n",
    "rgba[\"object\"] = (0, 0, 1, 0.3)"
   ]
  },
  {
   "cell_type": "markdown",
   "metadata": {},
   "source": [
    "## Extract Motion Data"
   ]
  },
  {
   "cell_type": "code",
   "execution_count": 5,
   "metadata": {},
   "outputs": [
    {
     "name": "stdout",
     "output_type": "stream",
     "text": [
      "(137, 34, 3)\n",
      "(137, 34, 3)\n",
      "(137, 3)\n",
      "(137, 4)\n"
     ]
    }
   ],
   "source": [
    "def motion_info_extraction(motion_data_list, motion_idx):\n",
    "    motion_info = motion_data_list[motion_idx]\n",
    "    pose_giver = np.array(motion_info[\"pose_giver\"])            # (motion_len, 34, 3)\n",
    "    pose_receiver = np.array(motion_info[\"pose_receiver\"])      # (motion_len, 34, 3)\n",
    "    pose_object = np.array(motion_info[\"pose_object\"])          # (motion_len, 3)\n",
    "    quat_object = np.array(motion_info[\"quat_object\"])          # (motion_len, 4)\n",
    "    len_motion = len(pose_object)\n",
    "\n",
    "    return pose_giver, pose_receiver, pose_object, quat_object, len_motion\n",
    "\n",
    "motion_idx = random.randint(0, len(motion_data_list)-1)\n",
    "pose_giver, pose_receiver, pose_object, quat_object, len_motion = motion_info_extraction(motion_data_list, motion_idx)\n",
    "\n",
    "print(pose_giver.shape)\n",
    "print(pose_receiver.shape)\n",
    "print(pose_object.shape)\n",
    "print(quat_object.shape)"
   ]
  },
  {
   "cell_type": "markdown",
   "metadata": {},
   "source": [
    "## R2H Motion Visualizer"
   ]
  },
  {
   "cell_type": "code",
   "execution_count": 6,
   "metadata": {},
   "outputs": [
    {
     "name": "stdout",
     "output_type": "stream",
     "text": [
      "ik_err:[0.8432] is higher than ik_err_th:[0.0100].\n",
      "You may want to increase max_ik_tick:[100]\n"
     ]
    }
   ],
   "source": [
    "env.reset()\n",
    "env.forward()\n",
    "env.init_viewer()\n",
    "env.set_viewer(azimuth=90,distance=1.5,elevation=-10,lookat=[.8, 0., 1.2])\n",
    "\n",
    "render_dt = 1./30.\n",
    "motion_dt = 1./30.\n",
    "\n",
    "p_text = [0,0,2]\n",
    "t_s = time.perf_counter()\n",
    "t_m = t_s\n",
    "pose_idx = 0\n",
    "p_pose_idx = np.array([1.0, 0., 1.2])\n",
    "\n",
    "while env.is_viewer_alive():\n",
    "    t_now = time.perf_counter()\n",
    "    if t_now - t_m >= motion_dt:\n",
    "        t_m += motion_dt\n",
    "        if pose_idx == len_motion-1:\n",
    "            pose_idx = 0\n",
    "            motion_idx = random.randint(0, len(motion_data_list)-1)\n",
    "            pose_giver, pose_receiver, pose_object, quat_object, len_motion = motion_info_extraction(motion_data_list, motion_idx)\n",
    "        else: \n",
    "            pose_idx += 1\n",
    "        p_object = pose_object[pose_idx]\n",
    "        R_object = quat2r(quat_object[pose_idx])\n",
    "    if t_now - t_s >= render_dt:\n",
    "        t_s += render_dt\n",
    "\n",
    "        # Forward Robot Motion\n",
    "        orientation_vector = p_object - env.get_p_body(\"ur_base\")\n",
    "        R_trgt = rpy2r([0, 0,np.arctan2(orientation_vector[1], orientation_vector[0])-np.pi/2]) @ rpy2r([0,np.pi,0])\n",
    "        p_trgt = p_object - np.array([0,0,0.1])\n",
    "        # Clip p_trgt for stable control # max_extension = 0.828, min_extension = 0.47\n",
    "        extension = np.linalg.norm(p_trgt - env.get_p_body(\"ur_shoulder_link\"))\n",
    "        if extension > 0.828:\n",
    "            p_trgt = env.get_p_body(\"ur_shoulder_link\") + (p_trgt - env.get_p_body(\"ur_shoulder_link\")) / extension * 0.828\n",
    "        elif extension < 0.5:\n",
    "            p_trgt = env.get_p_body(\"ur_shoulder_link\") + (p_trgt - env.get_p_body(\"ur_shoulder_link\")) / extension * 0.5\n",
    "        # solve ik\n",
    "        if pose_idx == 0:\n",
    "            q_init = init_joint_value\n",
    "        else:\n",
    "            q_init = env.get_qpos_joints(joint_names_ur5e)\n",
    "        q,_,_ = solve_ik(\n",
    "                            env                = env,\n",
    "                            joint_names_for_ik = joint_names_ur5e,\n",
    "                            body_name_trgt     = 'ur_tcp_link',\n",
    "                            q_init             = q_init,\n",
    "                            p_trgt             = p_trgt,\n",
    "                            R_trgt             = R_trgt,\n",
    "                        )\n",
    "        # forward and plot target pose\n",
    "        env.forward(q=q, joint_idxs=idxs_fwd_ur5e)\n",
    "        env.plot_T(p=p_trgt, R=R_trgt, axis_len=0.1, label= \"target_pose\")\n",
    "\n",
    "        # Plot Time and Index\n",
    "        env.plot_text(p=pose_giver[pose_idx][27] + np.array([0,0,0.1]),label=f\"motion index: {motion_idx}, time: {(pose_idx*motion_dt):.2f}s\")\n",
    "\n",
    "        # Plot Object\n",
    "        p_object_center = p_object - R_object @ np.array([0,0,0.1])\n",
    "        env.plot_cylinder(p=p_object_center, R=R_object, r=0.04, h=0.10, rgba=rgba[\"object\"])\n",
    "\n",
    "        # Plot Receiver Body\n",
    "        for ks in ks_body_receiver:\n",
    "            env.plot_cylinder_fr2to(p_fr=pose_receiver[pose_idx][ks[0]], p_to=pose_receiver[pose_idx][ks[1]], r=0.005, rgba=rgba[\"receiver\"])\n",
    "        for i in joint_idx_list_receiver:\n",
    "            env.plot_sphere(p=pose_receiver[pose_idx][i], r=0.02, rgba=rgba[\"receiver\"])\n",
    "        # Plot Receiver Traj (base)\n",
    "        env.plot_traj(pose_receiver[::10,1,:], rgba=rgba[\"receiver\"], plot_cylinder=True, cylinder_r=0.003)\n",
    "\n",
    "        # Plot Giver Body\n",
    "        # for ks in ks_body_giver:\n",
    "        #     env.plot_cylinder_fr2to(p_fr=pose_giver[pose_idx][ks[0]], p_to=pose_giver[pose_idx][ks[1]], r=0.005, rgba=rgba[\"giver\"])\n",
    "        # for i in joint_idx_list_giver:\n",
    "        #     env.plot_sphere(p=pose_giver[pose_idx][i], r=0.02, rgba=rgba[\"giver\"])\n",
    "        # Plot Object Traj (base)\n",
    "        env.plot_traj(pose_object[::10], rgba=rgba[\"object\"], plot_cylinder=True, cylinder_r=0.003)\n",
    "        \n",
    "        env.render()"
   ]
  }
 ],
 "metadata": {
  "kernelspec": {
   "display_name": "DDPM",
   "language": "python",
   "name": "python3"
  },
  "language_info": {
   "codemirror_mode": {
    "name": "ipython",
    "version": 3
   },
   "file_extension": ".py",
   "mimetype": "text/x-python",
   "name": "python",
   "nbconvert_exporter": "python",
   "pygments_lexer": "ipython3",
   "version": "3.9.1"
  }
 },
 "nbformat": 4,
 "nbformat_minor": 2
}
